{
  "nbformat": 4,
  "nbformat_minor": 0,
  "metadata": {
    "colab": {
      "name": "Boston Housing prices Prediction.ipynb",
      "provenance": [],
      "collapsed_sections": []
    },
    "kernelspec": {
      "name": "python3",
      "display_name": "Python 3"
    },
    "language_info": {
      "name": "python"
    }
  },
  "cells": [
    {
      "cell_type": "code",
      "metadata": {
        "id": "1m5nTB9pOInu"
      },
      "source": [
        "import pandas as pd\n",
        "import numpy as np\n"
      ],
      "execution_count": null,
      "outputs": []
    },
    {
      "cell_type": "code",
      "metadata": {
        "id": "uSGTJ7ejg_H6",
        "colab": {
          "base_uri": "https://localhost:8080/"
        },
        "outputId": "e5ede348-01e2-4597-d492-88b9749e3e49"
      },
      "source": [
        "from google.colab import drive\n",
        "drive.mount('/content/drive')"
      ],
      "execution_count": null,
      "outputs": [
        {
          "output_type": "stream",
          "text": [
            "Drive already mounted at /content/drive; to attempt to forcibly remount, call drive.mount(\"/content/drive\", force_remount=True).\n"
          ],
          "name": "stdout"
        }
      ]
    },
    {
      "cell_type": "code",
      "metadata": {
        "id": "H1ERgwWmPXwP",
        "colab": {
          "base_uri": "https://localhost:8080/",
          "height": 198
        },
        "outputId": "6fd36cbb-25ea-4f1e-e309-48a28cb45e8b"
      },
      "source": [
        "df = pd.read_csv('/content/drive/MyDrive/Maths end sem/Boston.csv')\n",
        "df.head()"
      ],
      "execution_count": null,
      "outputs": [
        {
          "output_type": "execute_result",
          "data": {
            "text/html": [
              "<div>\n",
              "<style scoped>\n",
              "    .dataframe tbody tr th:only-of-type {\n",
              "        vertical-align: middle;\n",
              "    }\n",
              "\n",
              "    .dataframe tbody tr th {\n",
              "        vertical-align: top;\n",
              "    }\n",
              "\n",
              "    .dataframe thead th {\n",
              "        text-align: right;\n",
              "    }\n",
              "</style>\n",
              "<table border=\"1\" class=\"dataframe\">\n",
              "  <thead>\n",
              "    <tr style=\"text-align: right;\">\n",
              "      <th></th>\n",
              "      <th>Unnamed: 0</th>\n",
              "      <th>crim</th>\n",
              "      <th>zn</th>\n",
              "      <th>indus</th>\n",
              "      <th>chas</th>\n",
              "      <th>nox</th>\n",
              "      <th>rm</th>\n",
              "      <th>age</th>\n",
              "      <th>dis</th>\n",
              "      <th>rad</th>\n",
              "      <th>tax</th>\n",
              "      <th>ptratio</th>\n",
              "      <th>black</th>\n",
              "      <th>lstat</th>\n",
              "      <th>medv</th>\n",
              "    </tr>\n",
              "  </thead>\n",
              "  <tbody>\n",
              "    <tr>\n",
              "      <th>0</th>\n",
              "      <td>1</td>\n",
              "      <td>0.00632</td>\n",
              "      <td>18.0</td>\n",
              "      <td>2.31</td>\n",
              "      <td>0</td>\n",
              "      <td>0.538</td>\n",
              "      <td>6.575</td>\n",
              "      <td>65.2</td>\n",
              "      <td>4.0900</td>\n",
              "      <td>1</td>\n",
              "      <td>296</td>\n",
              "      <td>15.3</td>\n",
              "      <td>396.90</td>\n",
              "      <td>4.98</td>\n",
              "      <td>24.0</td>\n",
              "    </tr>\n",
              "    <tr>\n",
              "      <th>1</th>\n",
              "      <td>2</td>\n",
              "      <td>0.02731</td>\n",
              "      <td>0.0</td>\n",
              "      <td>7.07</td>\n",
              "      <td>0</td>\n",
              "      <td>0.469</td>\n",
              "      <td>6.421</td>\n",
              "      <td>78.9</td>\n",
              "      <td>4.9671</td>\n",
              "      <td>2</td>\n",
              "      <td>242</td>\n",
              "      <td>17.8</td>\n",
              "      <td>396.90</td>\n",
              "      <td>9.14</td>\n",
              "      <td>21.6</td>\n",
              "    </tr>\n",
              "    <tr>\n",
              "      <th>2</th>\n",
              "      <td>3</td>\n",
              "      <td>0.02729</td>\n",
              "      <td>0.0</td>\n",
              "      <td>7.07</td>\n",
              "      <td>0</td>\n",
              "      <td>0.469</td>\n",
              "      <td>7.185</td>\n",
              "      <td>61.1</td>\n",
              "      <td>4.9671</td>\n",
              "      <td>2</td>\n",
              "      <td>242</td>\n",
              "      <td>17.8</td>\n",
              "      <td>392.83</td>\n",
              "      <td>4.03</td>\n",
              "      <td>34.7</td>\n",
              "    </tr>\n",
              "    <tr>\n",
              "      <th>3</th>\n",
              "      <td>4</td>\n",
              "      <td>0.03237</td>\n",
              "      <td>0.0</td>\n",
              "      <td>2.18</td>\n",
              "      <td>0</td>\n",
              "      <td>0.458</td>\n",
              "      <td>6.998</td>\n",
              "      <td>45.8</td>\n",
              "      <td>6.0622</td>\n",
              "      <td>3</td>\n",
              "      <td>222</td>\n",
              "      <td>18.7</td>\n",
              "      <td>394.63</td>\n",
              "      <td>2.94</td>\n",
              "      <td>33.4</td>\n",
              "    </tr>\n",
              "    <tr>\n",
              "      <th>4</th>\n",
              "      <td>5</td>\n",
              "      <td>0.06905</td>\n",
              "      <td>0.0</td>\n",
              "      <td>2.18</td>\n",
              "      <td>0</td>\n",
              "      <td>0.458</td>\n",
              "      <td>7.147</td>\n",
              "      <td>54.2</td>\n",
              "      <td>6.0622</td>\n",
              "      <td>3</td>\n",
              "      <td>222</td>\n",
              "      <td>18.7</td>\n",
              "      <td>396.90</td>\n",
              "      <td>5.33</td>\n",
              "      <td>36.2</td>\n",
              "    </tr>\n",
              "  </tbody>\n",
              "</table>\n",
              "</div>"
            ],
            "text/plain": [
              "   Unnamed: 0     crim    zn  indus  chas  ...  tax  ptratio   black  lstat  medv\n",
              "0           1  0.00632  18.0   2.31     0  ...  296     15.3  396.90   4.98  24.0\n",
              "1           2  0.02731   0.0   7.07     0  ...  242     17.8  396.90   9.14  21.6\n",
              "2           3  0.02729   0.0   7.07     0  ...  242     17.8  392.83   4.03  34.7\n",
              "3           4  0.03237   0.0   2.18     0  ...  222     18.7  394.63   2.94  33.4\n",
              "4           5  0.06905   0.0   2.18     0  ...  222     18.7  396.90   5.33  36.2\n",
              "\n",
              "[5 rows x 15 columns]"
            ]
          },
          "metadata": {
            "tags": []
          },
          "execution_count": 636
        }
      ]
    },
    {
      "cell_type": "code",
      "metadata": {
        "id": "TXT4nLzhPdiE",
        "colab": {
          "base_uri": "https://localhost:8080/"
        },
        "outputId": "3e504fa1-5d3f-4364-f603-8cceca67b536"
      },
      "source": [
        "df.info()"
      ],
      "execution_count": null,
      "outputs": [
        {
          "output_type": "stream",
          "text": [
            "<class 'pandas.core.frame.DataFrame'>\n",
            "RangeIndex: 506 entries, 0 to 505\n",
            "Data columns (total 15 columns):\n",
            " #   Column      Non-Null Count  Dtype  \n",
            "---  ------      --------------  -----  \n",
            " 0   Unnamed: 0  506 non-null    int64  \n",
            " 1   crim        506 non-null    float64\n",
            " 2   zn          506 non-null    float64\n",
            " 3   indus       506 non-null    float64\n",
            " 4   chas        506 non-null    int64  \n",
            " 5   nox         506 non-null    float64\n",
            " 6   rm          506 non-null    float64\n",
            " 7   age         506 non-null    float64\n",
            " 8   dis         506 non-null    float64\n",
            " 9   rad         506 non-null    int64  \n",
            " 10  tax         506 non-null    int64  \n",
            " 11  ptratio     506 non-null    float64\n",
            " 12  black       506 non-null    float64\n",
            " 13  lstat       506 non-null    float64\n",
            " 14  medv        506 non-null    float64\n",
            "dtypes: float64(11), int64(4)\n",
            "memory usage: 59.4 KB\n"
          ],
          "name": "stdout"
        }
      ]
    },
    {
      "cell_type": "code",
      "metadata": {
        "id": "aRp3WCo-lGYR",
        "colab": {
          "base_uri": "https://localhost:8080/"
        },
        "outputId": "349fcd77-5b5e-44fa-d81a-7e1d8dd0ff2f"
      },
      "source": [
        "df.columns\n"
      ],
      "execution_count": null,
      "outputs": [
        {
          "output_type": "execute_result",
          "data": {
            "text/plain": [
              "Index(['Unnamed: 0', 'crim', 'zn', 'indus', 'chas', 'nox', 'rm', 'age', 'dis',\n",
              "       'rad', 'tax', 'ptratio', 'black', 'lstat', 'medv'],\n",
              "      dtype='object')"
            ]
          },
          "metadata": {
            "tags": []
          },
          "execution_count": 638
        }
      ]
    },
    {
      "cell_type": "code",
      "metadata": {
        "id": "IWoI4pOYRFoz"
      },
      "source": [
        "A = df[['crim', 'zn', 'indus', 'chas', 'nox', 'rm', 'age', 'dis',\n",
        "       'rad', 'tax', 'ptratio', 'black', 'lstat']].values\n",
        "b = df[['medv']].values"
      ],
      "execution_count": null,
      "outputs": []
    },
    {
      "cell_type": "markdown",
      "metadata": {
        "id": "q_m7Si4BSZht"
      },
      "source": [
        "### **Z- Score normalisation**"
      ]
    },
    {
      "cell_type": "code",
      "metadata": {
        "id": "RFcnWUU4MZcg",
        "colab": {
          "base_uri": "https://localhost:8080/"
        },
        "outputId": "667bd9a0-3401-459d-e746-3d5e0444a6ca"
      },
      "source": [
        "from sklearn.preprocessing import StandardScaler\n",
        "A = preprocessing.scale(A)\n",
        "#A = (A1 - A1.mean())/A1.std()\n",
        "A"
      ],
      "execution_count": null,
      "outputs": [
        {
          "output_type": "execute_result",
          "data": {
            "text/plain": [
              "array([[-0.41978194,  0.28482986, -1.2879095 , ..., -1.45900038,\n",
              "         0.44105193, -1.0755623 ],\n",
              "       [-0.41733926, -0.48772236, -0.59338101, ..., -0.30309415,\n",
              "         0.44105193, -0.49243937],\n",
              "       [-0.41734159, -0.48772236, -0.59338101, ..., -0.30309415,\n",
              "         0.39642699, -1.2087274 ],\n",
              "       ...,\n",
              "       [-0.41344658, -0.48772236,  0.11573841, ...,  1.17646583,\n",
              "         0.44105193, -0.98304761],\n",
              "       [-0.40776407, -0.48772236,  0.11573841, ...,  1.17646583,\n",
              "         0.4032249 , -0.86530163],\n",
              "       [-0.41500016, -0.48772236,  0.11573841, ...,  1.17646583,\n",
              "         0.44105193, -0.66905833]])"
            ]
          },
          "metadata": {
            "tags": []
          },
          "execution_count": 640
        }
      ]
    },
    {
      "cell_type": "code",
      "metadata": {
        "id": "baaK_EMfRQEF",
        "colab": {
          "base_uri": "https://localhost:8080/"
        },
        "outputId": "77cb528a-afbe-4f17-aca0-00a2eec8094b"
      },
      "source": [
        "print(A[0:5])\n",
        "print(A.shape)"
      ],
      "execution_count": null,
      "outputs": [
        {
          "output_type": "stream",
          "text": [
            "[[-0.41978194  0.28482986 -1.2879095  -0.27259857 -0.14421743  0.41367189\n",
            "  -0.12001342  0.1402136  -0.98284286 -0.66660821 -1.45900038  0.44105193\n",
            "  -1.0755623 ]\n",
            " [-0.41733926 -0.48772236 -0.59338101 -0.27259857 -0.74026221  0.19427445\n",
            "   0.36716642  0.55715988 -0.8678825  -0.98732948 -0.30309415  0.44105193\n",
            "  -0.49243937]\n",
            " [-0.41734159 -0.48772236 -0.59338101 -0.27259857 -0.74026221  1.28271368\n",
            "  -0.26581176  0.55715988 -0.8678825  -0.98732948 -0.30309415  0.39642699\n",
            "  -1.2087274 ]\n",
            " [-0.41675042 -0.48772236 -1.30687771 -0.27259857 -0.83528384  1.01630251\n",
            "  -0.80988851  1.07773662 -0.75292215 -1.10611514  0.1130321   0.41616284\n",
            "  -1.36151682]\n",
            " [-0.41248185 -0.48772236 -1.30687771 -0.27259857 -0.83528384  1.22857665\n",
            "  -0.51117971  1.07773662 -0.75292215 -1.10611514  0.1130321   0.44105193\n",
            "  -1.02650148]]\n",
            "(506, 13)\n"
          ],
          "name": "stdout"
        }
      ]
    },
    {
      "cell_type": "code",
      "metadata": {
        "id": "fpxetP6kRTc5",
        "colab": {
          "base_uri": "https://localhost:8080/"
        },
        "outputId": "d4913092-f82f-4292-8e5b-67cb3413b7ec"
      },
      "source": [
        "print(b[0:5])\n",
        "print(b.shape)"
      ],
      "execution_count": null,
      "outputs": [
        {
          "output_type": "stream",
          "text": [
            "[[24. ]\n",
            " [21.6]\n",
            " [34.7]\n",
            " [33.4]\n",
            " [36.2]]\n",
            "(506, 1)\n"
          ],
          "name": "stdout"
        }
      ]
    },
    {
      "cell_type": "markdown",
      "metadata": {
        "id": "2ke7EGL_S83X"
      },
      "source": [
        "## **Splitting the data into training and testing sets**"
      ]
    },
    {
      "cell_type": "code",
      "metadata": {
        "id": "DnLJuHmBRXH3",
        "colab": {
          "base_uri": "https://localhost:8080/"
        },
        "outputId": "6b152453-8e6d-4b38-f830-c0819b90a525"
      },
      "source": [
        "from sklearn.model_selection import train_test_split\n",
        "A_train, A_test, b_train, b_test = train_test_split(A, b, test_size = 0.10, random_state = 42)\n",
        "Af_train = np.append(arr=np.ones((len(A_train),1)),values=A_train,axis=1)\n",
        "Af_test = np.append(arr=np.ones((len(A_test),1)),values=A_test,axis=1)\n",
        "print ('Train set:', Af_train.shape,  b_train.shape)\n",
        "print ('Test set:', Af_test.shape,  b_test.shape)"
      ],
      "execution_count": null,
      "outputs": [
        {
          "output_type": "stream",
          "text": [
            "Train set: (455, 14) (455, 1)\n",
            "Test set: (51, 14) (51, 1)\n"
          ],
          "name": "stdout"
        }
      ]
    },
    {
      "cell_type": "markdown",
      "metadata": {
        "id": "2MFv5wfwTIJA"
      },
      "source": [
        "## **Calculation of the learning_alpha** \n"
      ]
    },
    {
      "cell_type": "code",
      "metadata": {
        "id": "MJtzpD_xRoyC",
        "colab": {
          "base_uri": "https://localhost:8080/"
        },
        "outputId": "239e9e34-3b3b-459e-8de7-671df9c844bf"
      },
      "source": [
        "d = np.dot(Af_train.T,Af_train)\n",
        "from numpy import linalg as LA\n",
        "n = LA.norm(d, 'fro')\n",
        "epsilon = 10**(-8)\n",
        "denom = epsilon + n \n",
        "learning_alpha = 1/denom\n",
        "print(learning_alpha)\n",
        "\n",
        "learning_alpha_new = learning_alpha + (4* 10**(-4))\n",
        "print(learning_alpha_new)"
      ],
      "execution_count": null,
      "outputs": [
        {
          "output_type": "stream",
          "text": [
            "0.00032305881182909113\n",
            "0.0007230588118290911\n"
          ],
          "name": "stdout"
        }
      ]
    },
    {
      "cell_type": "markdown",
      "metadata": {
        "id": "GFajJLHoUi5C"
      },
      "source": [
        "# **Ridge Regression cost function**"
      ]
    },
    {
      "cell_type": "code",
      "metadata": {
        "id": "itGss2QxUOSS"
      },
      "source": [
        "def Ridge_costfunc(A, b, theta):\n",
        " \n",
        "  J_cost = np.sum(((A.dot(theta) - b) ** 2) + (epsilon * (LA.norm(theta)**2)))/2\n",
        "  return J_cost"
      ],
      "execution_count": null,
      "outputs": []
    },
    {
      "cell_type": "markdown",
      "metadata": {
        "id": "Vt9shVhSUmb8"
      },
      "source": [
        "# **Batch Gradient Descent**"
      ]
    },
    {
      "cell_type": "code",
      "metadata": {
        "id": "vhq3ONHChgAw"
      },
      "source": [
        "\n",
        "def batch_gradient_descent(A, b, theta,learning_rate, iterations):\n",
        "  cost_updated = [0] * iterations\n",
        "  m = len(b)\n",
        "  tol = 10**(-8)\n",
        "  for iteration in range(iterations):\n",
        "        theta_previous = theta\n",
        "\n",
        "        gradient =  np.dot( np.dot(A.T , A) , theta ) - np.dot(A.T , b) + epsilon*theta\n",
        "  \n",
        "        theta = theta - learning_rate  * gradient\n",
        "\n",
        "        cost_value = Ridge_costfunc(A, b, theta)\n",
        "        cost_updated[iteration] = cost_value\n",
        "\n",
        "        if LA.norm(theta - theta_previous, ord = 'fro') <= tol :\n",
        "          return theta#, cost_updated\n",
        "\n",
        "  return theta#,cost_updated\n",
        "  \n",
        "\n",
        "theta = np.zeros( (Af_train.shape[1] , 1 ) )\n",
        "theta_final = batch_gradient_descent(Af_train, b_train,theta,learning_alpha,2000)"
      ],
      "execution_count": null,
      "outputs": []
    },
    {
      "cell_type": "code",
      "metadata": {
        "id": "zXxjLG36gaaS",
        "colab": {
          "base_uri": "https://localhost:8080/"
        },
        "outputId": "d1114376-c1f0-46d6-b855-8bc3532439ba"
      },
      "source": [
        "theta_final"
      ],
      "execution_count": null,
      "outputs": [
        {
          "output_type": "execute_result",
          "data": {
            "text/plain": [
              "array([[22.60023822],\n",
              "       [-1.03018756],\n",
              "       [ 0.92995961],\n",
              "       [ 0.14593865],\n",
              "       [ 0.70430204],\n",
              "       [-2.15151487],\n",
              "       [ 2.63627473],\n",
              "       [ 0.12853457],\n",
              "       [-3.09369253],\n",
              "       [ 2.71291743],\n",
              "       [-1.98862152],\n",
              "       [-2.04937974],\n",
              "       [ 0.94203398],\n",
              "       [-3.92438757]])"
            ]
          },
          "metadata": {
            "tags": []
          },
          "execution_count": 647
        }
      ]
    },
    {
      "cell_type": "markdown",
      "metadata": {
        "id": "bQn3gPM7UuHa"
      },
      "source": [
        "# **Predicting values**"
      ]
    },
    {
      "cell_type": "code",
      "metadata": {
        "id": "SsfaFascnHdt",
        "colab": {
          "base_uri": "https://localhost:8080/"
        },
        "outputId": "7b42c00f-d1b6-4f79-9b1b-b2592c70850b"
      },
      "source": [
        "b_predicted = np.dot(Af_test + epsilon , theta_final) \n",
        "\n",
        "print(b_predicted.T)"
      ],
      "execution_count": null,
      "outputs": [
        {
          "output_type": "stream",
          "text": [
            "[[29.36395813 36.18916488 14.05923442 24.76681247 18.79788313 23.24853436\n",
            "  17.67925178 13.52689728 23.47852887 20.64157349 25.09931707 18.95745411\n",
            "  -5.20884392 21.49578249 19.70582796 25.88188542 20.58810066  6.32255138\n",
            "  40.53496183 17.70625566 27.18358558 30.26489802 11.44273443 23.67928118\n",
            "  18.31340125 16.68382622 22.7040864  15.00807529 22.63999493 19.2659574\n",
            "  23.18874642 25.13865464 25.457444   18.65562998 17.14694387 17.09774614\n",
            "  30.86149948 20.30925708 23.66439625 24.16999144 14.0222965  32.76422213\n",
            "  42.75995437 17.52640862 27.33820188 17.47952622 14.37833452 25.34949517\n",
            "  20.51753419 30.15497531 21.71831633]]\n"
          ],
          "name": "stdout"
        }
      ]
    },
    {
      "cell_type": "code",
      "metadata": {
        "colab": {
          "base_uri": "https://localhost:8080/"
        },
        "id": "xG81dCD9tW8x",
        "outputId": "dfb47881-6d56-4d64-b870-2f5f02033f3c"
      },
      "source": [
        "v = (np.sqrt( np.sum( (Y_predicted - b_test) **2 ) /b_test.size )) \n",
        "round(v,5)"
      ],
      "execution_count": null,
      "outputs": [
        {
          "output_type": "execute_result",
          "data": {
            "text/plain": [
              "3.87245"
            ]
          },
          "metadata": {
            "tags": []
          },
          "execution_count": 649
        }
      ]
    },
    {
      "cell_type": "markdown",
      "metadata": {
        "id": "5Q4BJGB6U6M-"
      },
      "source": [
        "# **Plotting the Predicted values**"
      ]
    },
    {
      "cell_type": "code",
      "metadata": {
        "colab": {
          "base_uri": "https://localhost:8080/",
          "height": 623
        },
        "id": "zzjXuteLsUYQ",
        "outputId": "47fcfbba-4296-4d89-cb8d-1c8cb2554d62"
      },
      "source": [
        "import matplotlib.pyplot as plt\n",
        "\n",
        "fig = plt.figure(figsize=(16  ,10))\n",
        "plt.plot(b_test, color = 'purple')\n",
        "plt.plot(b_predicted , color = 'green')\n",
        "plt.legend([\"b_test \" , \"b_Predicted\"])\n",
        "plt.xlabel('b test values')\n",
        "plt.ylabel('b predicted values')"
      ],
      "execution_count": null,
      "outputs": [
        {
          "output_type": "execute_result",
          "data": {
            "text/plain": [
              "Text(0, 0.5, 'b predicted values')"
            ]
          },
          "metadata": {
            "tags": []
          },
          "execution_count": 650
        },
        {
          "output_type": "display_data",
          "data": {
            "image/png": "[encoded data removed]",
            "text/plain": [
              "<Figure size 1152x720 with 1 Axes>"
            ]
          },
          "metadata": {
            "tags": [],
            "needs_background": "light"
          }
        }
      ]
    },
    {
      "cell_type": "code",
      "metadata": {
        "id": "j8TUKkdes_dT"
      },
      "source": [
        "theta_actual = np.dot(np.dot( np.linalg.inv( np.dot(Af_train.T , Af_train) + epsilon) , Af_train.T ) , b_train ) \n"
      ],
      "execution_count": null,
      "outputs": []
    },
    {
      "cell_type": "markdown",
      "metadata": {
        "id": "9_e0LZiQVCj4"
      },
      "source": [
        "**Comparing the values of theta obtained by solving the normal equation vs the values of theta obtained by gradient descent method**"
      ]
    },
    {
      "cell_type": "code",
      "metadata": {
        "colab": {
          "base_uri": "https://localhost:8080/"
        },
        "id": "xuHbJu2HudDH",
        "outputId": "a37a7532-ada9-45f8-c110-25a137918b46"
      },
      "source": [
        "print(\"Actual values of theta using normal equation : \")\n",
        "print(theta_actual)\n",
        "print()\n",
        "print(\"Theta values obtained by batch gradient descent method : \")\n",
        "print(theta_final)"
      ],
      "execution_count": null,
      "outputs": [
        {
          "output_type": "stream",
          "text": [
            "Actual values of theta using normal equation : \n",
            "[[22.60023822]\n",
            " [-1.03018761]\n",
            " [ 0.92995971]\n",
            " [ 0.14593891]\n",
            " [ 0.704302  ]\n",
            " [-2.15151491]\n",
            " [ 2.63627468]\n",
            " [ 0.12853461]\n",
            " [-3.09369252]\n",
            " [ 2.71291811]\n",
            " [-1.98862229]\n",
            " [-2.04937977]\n",
            " [ 0.94203399]\n",
            " [-3.92438759]]\n",
            "\n",
            "Theta values obtained by batch gradient descent method : \n",
            "[[22.60023822]\n",
            " [-1.03018756]\n",
            " [ 0.92995961]\n",
            " [ 0.14593865]\n",
            " [ 0.70430204]\n",
            " [-2.15151487]\n",
            " [ 2.63627473]\n",
            " [ 0.12853457]\n",
            " [-3.09369253]\n",
            " [ 2.71291743]\n",
            " [-1.98862152]\n",
            " [-2.04937974]\n",
            " [ 0.94203398]\n",
            " [-3.92438757]]\n"
          ],
          "name": "stdout"
        }
      ]
    },
    {
      "cell_type": "markdown",
      "metadata": {
        "id": "VBBunMZ9VXjL"
      },
      "source": [
        "\n",
        "**Calculating the frobenius norm of (Theta_actual - theta_final)**"
      ]
    },
    {
      "cell_type": "code",
      "metadata": {
        "colab": {
          "base_uri": "https://localhost:8080/"
        },
        "id": "MEeFK0MZvy-4",
        "outputId": "4ce9c97e-5650-404d-e838-513c0440becb"
      },
      "source": [
        "diff = LA.norm(theta_actual - theta_final, ord = 'fro')\n",
        "diff"
      ],
      "execution_count": null,
      "outputs": [
        {
          "output_type": "execute_result",
          "data": {
            "text/plain": [
              "1.0680928080647973e-06"
            ]
          },
          "metadata": {
            "tags": []
          },
          "execution_count": 653
        }
      ]
    },
    {
      "cell_type": "code",
      "metadata": {
        "colab": {
          "base_uri": "https://localhost:8080/"
        },
        "id": "GPTRzHWPwSFL",
        "outputId": "31bd4e8e-e25b-4a8c-af61-1b3996e9e7e8"
      },
      "source": [
        "theta_final = batch_gradient_descent(Af_train, b_train,theta,learning_alpha,2000)\n",
        "theta_final "
      ],
      "execution_count": null,
      "outputs": [
        {
          "output_type": "execute_result",
          "data": {
            "text/plain": [
              "array([[22.60023822],\n",
              "       [-1.03018756],\n",
              "       [ 0.92995961],\n",
              "       [ 0.14593865],\n",
              "       [ 0.70430204],\n",
              "       [-2.15151487],\n",
              "       [ 2.63627473],\n",
              "       [ 0.12853457],\n",
              "       [-3.09369253],\n",
              "       [ 2.71291743],\n",
              "       [-1.98862152],\n",
              "       [-2.04937974],\n",
              "       [ 0.94203398],\n",
              "       [-3.92438757]])"
            ]
          },
          "metadata": {
            "tags": []
          },
          "execution_count": 654
        }
      ]
    },
    {
      "cell_type": "markdown",
      "metadata": {
        "id": "dsVTXT3PVm1R"
      },
      "source": [
        "**Using a slightly increased alpha in the gradient descent method**"
      ]
    },
    {
      "cell_type": "code",
      "metadata": {
        "colab": {
          "base_uri": "https://localhost:8080/"
        },
        "id": "5ctEIzwLw4XN",
        "outputId": "45fc5fe8-bd6f-4d12-a92f-eef137592164"
      },
      "source": [
        "theta_final_new = batch_gradient_descent(Af_train, b_train,theta,learning_alpha_new,2000)\n",
        "theta_final_new"
      ],
      "execution_count": null,
      "outputs": [
        {
          "output_type": "execute_result",
          "data": {
            "text/plain": [
              "array([[-1.50942806e+42],\n",
              "       [ 7.70913501e+43],\n",
              "       [-8.03375663e+43],\n",
              "       [ 1.06831609e+44],\n",
              "       [ 3.92822551e+42],\n",
              "       [ 1.05570975e+44],\n",
              "       [-5.70020669e+43],\n",
              "       [ 9.58714579e+43],\n",
              "       [-1.01558226e+44],\n",
              "       [ 9.69894340e+43],\n",
              "       [ 1.02253692e+44],\n",
              "       [ 6.21379784e+43],\n",
              "       [-6.35949404e+43],\n",
              "       [ 9.41267799e+43]])"
            ]
          },
          "metadata": {
            "tags": []
          },
          "execution_count": 655
        }
      ]
    },
    {
      "cell_type": "code",
      "metadata": {
        "id": "ux2JjuJnxCOE"
      },
      "source": [
        ""
      ],
      "execution_count": null,
      "outputs": []
    }
  ]
}